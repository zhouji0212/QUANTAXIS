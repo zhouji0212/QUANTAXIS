{
 "cells": [
  {
   "cell_type": "code",
   "execution_count": 1,
   "metadata": {},
   "outputs": [
    {
     "name": "stderr",
     "output_type": "stream",
     "text": [
      "QUANTAXIS>> Expand macros in d:\\miniconda3\\lib\\site-packages\\macropy\\core\\hquotes.py\n",
      "QUANTAXIS>> Finding macros in 'macropy.core.hquotes'\n",
      "QUANTAXIS>> Importing macros from 'macropy.core.quotes' into 'macropy.core.hquotes'\n",
      "QUANTAXIS>> Expand macros in d:\\miniconda3\\lib\\site-packages\\macropy\\core\\quotes.py\n",
      "QUANTAXIS>> Finding macros in 'macropy.core.quotes'\n",
      "QUANTAXIS>> Expand macros in d:\\miniconda3\\lib\\site-packages\\macropy\\core\\failure.py\n",
      "QUANTAXIS>> Finding macros in 'macropy.core.failure'\n",
      "QUANTAXIS>> Importing macros from 'macropy.core.hquotes' into 'macropy.core.failure'\n",
      "QUANTAXIS>> Expand macros in d:\\miniconda3\\lib\\site-packages\\cffi\\api.py\n",
      "QUANTAXIS>> Finding macros in 'cffi.api'\n",
      "QUANTAXIS>> Expand macros in d:\\miniconda3\\lib\\site-packages\\scipy\\__config__.py\n",
      "QUANTAXIS>> Finding macros in 'scipy.__config__'\n"
     ]
    },
    {
     "name": "stdout",
     "output_type": "stream",
     "text": [
      "< QA_Event None None False , id = 240475552 >\n",
      "< QA_Order realorder_id Order_S8pEz1Aj datetime:2018-10-30 15:00:00 code:RBL8 amount:1 price:4172.0 towards:-2 btype:future_cn order_id:Order_S8pEz1Aj account:testaccount status:queued >\n",
      "trade_time      2018-10-30 00:00:00\n",
      "code                           RBL8\n",
      "name                           None\n",
      "towards                          -2\n",
      "trade_amount                      1\n",
      "trade_price                    4172\n",
      "trade_money                       0\n",
      "trade_id             Trade_ZXEUibdt\n",
      "Name: (testaccount, Order_S8pEz1Aj), dtype: object\n",
      "receive deal\n",
      "{'RBL8': {-2: [[4172.0, 1, 1.043]]}}\n",
      "< QA_Event None None False , id = 240894304 >\n",
      "< QA_Order realorder_id Order_yTHdDzVp datetime:2018-10-31 15:00:00 code:RBL8 amount:1 price:4127.0 towards:-2 btype:future_cn order_id:Order_yTHdDzVp account:testaccount status:queued >\n",
      "trade_time      2018-10-31 00:00:00\n",
      "code                           RBL8\n",
      "name                           None\n",
      "towards                          -2\n",
      "trade_amount                      1\n",
      "trade_price                    4127\n",
      "trade_money                       0\n",
      "trade_id             Trade_q0BvpPuh\n",
      "Name: (testaccount, Order_yTHdDzVp), dtype: object\n",
      "receive deal\n",
      "{'RBL8': {-2: [[4172.0, 1, 1.043], [4127.0, 1, 1.03175]]}}\n",
      "< QA_Event None None False , id = 240897944 >\n",
      "< QA_Order realorder_id Order_lpTzA0Ch datetime:2018-11-01 15:00:00 code:RBL8 amount:1 price:4057.0 towards:-2 btype:future_cn order_id:Order_lpTzA0Ch account:testaccount status:queued >\n",
      "trade_time      2018-11-01 00:00:00\n",
      "code                           RBL8\n",
      "name                           None\n",
      "towards                          -2\n",
      "trade_amount                      1\n",
      "trade_price                    4057\n",
      "trade_money                       0\n",
      "trade_id             Trade_Tmj7GCLt\n",
      "Name: (testaccount, Order_lpTzA0Ch), dtype: object\n",
      "receive deal\n",
      "{'RBL8': {-2: [[4172.0, 1, 1.043], [4127.0, 1, 1.03175], [4057.0, 1, 1.01425]]}}\n",
      "< QA_Event None None False , id = 241001752 >\n",
      "< QA_Order realorder_id Order_Y79m0sUM datetime:2018-11-02 15:00:00 code:RBL8 amount:1 price:4064.0 towards:-2 btype:future_cn order_id:Order_Y79m0sUM account:testaccount status:queued >\n",
      "trade_time      2018-11-02 00:00:00\n",
      "code                           RBL8\n",
      "name                           None\n",
      "towards                          -2\n",
      "trade_amount                      1\n",
      "trade_price                    4064\n",
      "trade_money                       0\n",
      "trade_id             Trade_VDhnMziP\n",
      "Name: (testaccount, Order_Y79m0sUM), dtype: object\n",
      "receive deal\n",
      "{'RBL8': {-2: [[4172.0, 1, 1.043], [4127.0, 1, 1.03175], [4057.0, 1, 1.01425], [4064.0, 1, 1.016]]}}\n",
      "              datetime  code   price  amount         cash order_id  \\\n",
      "0  2018-10-30 00:00:00  RBL8  4172.0      -1  95826.95700        0   \n",
      "1  2018-10-31 00:00:00  RBL8  4127.0      -1  91698.92525        0   \n",
      "2  2018-11-01 00:00:00  RBL8  4057.0      -1  87640.91100        0   \n",
      "3  2018-11-02 00:00:00  RBL8  4064.0      -1  83575.89500        0   \n",
      "\n",
      "  realorder_id        trade_id account_cookie  commission  tax message  \n",
      "0            0  Trade_ZXEUibdt    testaccount     1.04300    0    None  \n",
      "1            0  Trade_q0BvpPuh    testaccount     1.03175    0    None  \n",
      "2            0  Trade_Tmj7GCLt    testaccount     1.01425    0    None  \n",
      "3            0  Trade_VDhnMziP    testaccount     1.01600    0    None  \n"
     ]
    }
   ],
   "source": [
    "\n",
    "import QUANTAXIS as QA\n",
    "from QUANTAXIS.QAARP.QAAccount_Future import QA_Account_Future\n",
    "\n",
    "\n",
    "def test_future():\n",
    "    b = QA.QA_BacktestBroker()\n",
    "    data = QA.QA_fetch_future_day_adv('RBL8','2018-10-30','2018-11-04')\n",
    "    account = QA_Account_Future(init_cash=100000,allow_sellopen=True, allow_t0=True,\n",
    "                    account_cookie='testaccount',market_type=QA.MARKET_TYPE.FUTURE_CN,\n",
    "                     frequence=QA.FREQUENCE.DAY)\n",
    "    buy_sell = [QA.ORDER_DIRECTION.SELL_OPEN,QA.ORDER_DIRECTION.BUY_CLOSE,QA.ORDER_DIRECTION.BUY_OPEN,QA.ORDER_DIRECTION.SELL_CLOSE]\n",
    "    for items in data.panel_gen:\n",
    "        i = 0\n",
    "        for item in items.security_gen:\n",
    "            \n",
    "            date = item.index\n",
    "            order = account.send_order(\n",
    "                code=item.index[0][1],\n",
    "                time=item.index[0][0],\n",
    "                towards= buy_sell[i],\n",
    "                price=item.get('close')[0],\n",
    "                order_model=QA.ORDER_MODEL.CLOSE,\n",
    "                amount_model=QA.AMOUNT_MODEL.BY_AMOUNT,\n",
    "                amount=1\n",
    "            )\n",
    "            event = QA.QA_Event(order= order,market_data=item)\n",
    "            print(event)\n",
    "            print(b.receive_order(event))\n",
    "            trade_msg = b.query_orders(account.account_cookie,'filled')\n",
    "            res = trade_msg.loc[order.account_cookie,order.realorder_id]\n",
    "            print(res)\n",
    "            #order.trade(res.trade_id,res.trade_price,res.trade_ammount,res.trade_time)\n",
    "            account.receive_deal(res.code, res.trade_id, str(i), str(i),\n",
    "                          res.trade_price, res.trade_amount, res.towards, res.trade_time)\n",
    "            i +=1\n",
    "            account.settle()\n",
    "    print(account.history_table)\n",
    "\n",
    "test_future()"
   ]
  },
  {
   "cell_type": "code",
   "execution_count": null,
   "metadata": {},
   "outputs": [],
   "source": []
  },
  {
   "cell_type": "code",
   "execution_count": null,
   "metadata": {},
   "outputs": [],
   "source": []
  },
  {
   "cell_type": "code",
   "execution_count": null,
   "metadata": {},
   "outputs": [],
   "source": []
  },
  {
   "cell_type": "code",
   "execution_count": null,
   "metadata": {},
   "outputs": [],
   "source": []
  },
  {
   "cell_type": "code",
   "execution_count": null,
   "metadata": {},
   "outputs": [],
   "source": []
  },
  {
   "cell_type": "code",
   "execution_count": 2,
   "metadata": {},
   "outputs": [
    {
     "ename": "NameError",
     "evalue": "name 'account' is not defined",
     "output_type": "error",
     "traceback": [
      "\u001b[1;31m---------------------------------------------------------------------------\u001b[0m",
      "\u001b[1;31mNameError\u001b[0m                                 Traceback (most recent call last)",
      "\u001b[1;32m<ipython-input-2-e313ef4d115c>\u001b[0m in \u001b[0;36m<module>\u001b[1;34m\u001b[0m\n\u001b[1;32m----> 1\u001b[1;33m \u001b[0maccount\u001b[0m\u001b[1;33m.\u001b[0m\u001b[0mhistory_table\u001b[0m\u001b[1;33m\u001b[0m\u001b[0m\n\u001b[0m",
      "\u001b[1;31mNameError\u001b[0m: name 'account' is not defined"
     ]
    }
   ],
   "source": [
    "account.history_table"
   ]
  },
  {
   "cell_type": "code",
   "execution_count": null,
   "metadata": {},
   "outputs": [],
   "source": []
  },
  {
   "cell_type": "code",
   "execution_count": null,
   "metadata": {},
   "outputs": [],
   "source": []
  },
  {
   "cell_type": "code",
   "execution_count": null,
   "metadata": {},
   "outputs": [],
   "source": [
    "account"
   ]
  },
  {
   "cell_type": "code",
   "execution_count": null,
   "metadata": {},
   "outputs": [],
   "source": []
  },
  {
   "cell_type": "code",
   "execution_count": null,
   "metadata": {},
   "outputs": [],
   "source": []
  },
  {
   "cell_type": "code",
   "execution_count": null,
   "metadata": {},
   "outputs": [],
   "source": []
  },
  {
   "cell_type": "code",
   "execution_count": null,
   "metadata": {},
   "outputs": [],
   "source": [
    "account.history_table"
   ]
  },
  {
   "cell_type": "code",
   "execution_count": null,
   "metadata": {},
   "outputs": [],
   "source": []
  }
 ],
 "metadata": {
  "kernelspec": {
   "display_name": "Python 3",
   "language": "python",
   "name": "python3"
  },
  "language_info": {
   "codemirror_mode": {
    "name": "ipython",
    "version": 3
   },
   "file_extension": ".py",
   "mimetype": "text/x-python",
   "name": "python",
   "nbconvert_exporter": "python",
   "pygments_lexer": "ipython3",
   "version": "3.6.5"
  }
 },
 "nbformat": 4,
 "nbformat_minor": 2
}
